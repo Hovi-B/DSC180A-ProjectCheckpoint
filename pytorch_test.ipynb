{
 "cells": [
  {
   "cell_type": "markdown",
   "metadata": {},
   "source": [
    "We started playing with Pytorch and their toy datasets to get familiar with it. We plan to use Pytorch for our project. "
   ]
  },
  {
   "cell_type": "code",
   "execution_count": 60,
   "metadata": {
    "id": "zmpG9VX0xgZX"
   },
   "outputs": [],
   "source": [
    "# code inspiration from https://pytorch.org/tutorials/beginner/blitz/cifar10_tutorial.html\n",
    "import torch\n",
    "import torchvision\n",
    "import torchvision.transforms as transforms\n",
    "from torchvision.transforms import ToTensor\n",
    "import numpy as np\n",
    "import matplotlib.pyplot as plt"
   ]
  },
  {
   "cell_type": "code",
   "execution_count": 61,
   "metadata": {
    "colab": {
     "base_uri": "https://localhost:8080/"
    },
    "id": "6x0zGo4sxgjZ",
    "outputId": "5ab01c2e-bc83-48b0-a8d6-8c0ca8b4a553"
   },
   "outputs": [],
   "source": [
    "transform = transforms.Compose([\n",
    "    transforms.ToTensor(),\n",
    "    transforms.Normalize((0.5,), (0.5,))\n",
    "])\n",
    "\n",
    "batch_size = 32\n",
    "\n",
    "# get the dataset\n",
    "trainset = torchvision.datasets.MNIST(root='./data', train=True, download=True, transform=transform)\n",
    "testset = torchvision.datasets.MNIST(root='./data', train=False, download=True, transform=transform)\n",
    "\n",
    "# create dataloaders for minibatch generation\n",
    "trainloader = torch.utils.data.DataLoader(trainset, batch_size=batch_size, shuffle=True, num_workers=2)\n",
    "testloader = torch.utils.data.DataLoader(testset, batch_size=batch_size, shuffle=False, num_workers=2)\n",
    "\n",
    "device = torch.device('cuda:0' if torch.cuda.is_available() else 'cpu')"
   ]
  },
  {
   "cell_type": "code",
   "execution_count": 62,
   "metadata": {},
   "outputs": [
    {
     "data": {
      "image/png": "[encoded data removed]",
      "text/plain": [
       "<Figure size 432x288 with 1 Axes>"
      ]
     },
     "metadata": {
      "needs_background": "light"
     },
     "output_type": "display_data"
    }
   ],
   "source": [
    "plt.imshow(trainset.data[0],cmap='gray')\n",
    "plt.show()"
   ]
  },
  {
   "cell_type": "markdown",
   "metadata": {},
   "source": [
    "# Model"
   ]
  },
  {
   "cell_type": "code",
   "execution_count": 63,
   "metadata": {
    "id": "WOROtEGqxgty"
   },
   "outputs": [],
   "source": [
    "import torch.nn as nn\n",
    "import torch.nn.functional as F\n",
    "\n",
    "\n",
    "class Net(nn.Module):\n",
    "    def __init__(self, prob):\n",
    "        super().__init__()\n",
    "        # filter weight shape: (1, 10, 5, 5)\n",
    "        self.conv1 = nn.Conv2d(in_channels=1, out_channels=10, kernel_size=5)\n",
    "        \n",
    "        self.pool = nn.MaxPool2d(2, 2)\n",
    "\n",
    "        # filter weight shape: (10, 20, 5, 5)\n",
    "        self.conv2 = nn.Conv2d(in_channels=10, out_channels=20, kernel_size=5)\n",
    "\n",
    "        self.fc1 = nn.Linear(20 * 4 * 4, 120)\n",
    "        self.dropout = nn.Dropout(prob)\n",
    "        self.fc2 = nn.Linear(120, 60)\n",
    "        self.fc3 = nn.Linear(60, 10)\n",
    "\n",
    "    def forward(self, x):\n",
    "        x = self.pool(F.relu(self.conv1(x)))\n",
    "        x = self.pool(F.relu(self.conv2(x)))\n",
    "        x = torch.flatten(x, 1)\n",
    "        x = F.relu(self.fc1(x))\n",
    "        x = self.dropout(x)\n",
    "        x = F.relu(self.fc2(x))\n",
    "        x = self.fc3(x)\n",
    "        return x\n",
    "\n",
    "\n",
    "# net = Net(0).to(device)"
   ]
  },
  {
   "cell_type": "code",
   "execution_count": 64,
   "metadata": {
    "id": "l-j_CfY5xgwo"
   },
   "outputs": [],
   "source": [
    "import torch.optim as optim\n",
    "\n",
    "criterion = nn.CrossEntropyLoss()\n",
    "optimizer = optim.SGD(net.parameters(), lr=0.001, momentum=0.9)"
   ]
  },
  {
   "cell_type": "code",
   "execution_count": 65,
   "metadata": {
    "id": "G7xLYGLWxg3S"
   },
   "outputs": [],
   "source": [
    "def get_loss_and_accuracy(images, labels, net, criterion):\n",
    "    logits = net(images)\n",
    "    loss = criterion(logits, labels)\n",
    "    pred = logits.argmax(dim=1, keepdim=True)\n",
    "    correct = pred.eq(labels.view_as(pred)).sum().item()\n",
    "    return loss, correct"
   ]
  },
  {
   "cell_type": "code",
   "execution_count": 66,
   "metadata": {
    "id": "O0ANccCsvmJp"
   },
   "outputs": [],
   "source": [
    "def test(dataloader, net, criterion):\n",
    "    test_loss, test_accuracy = 0.0, 0.0\n",
    "\n",
    "    with torch.no_grad():\n",
    "        for images, labels in testloader:\n",
    "            images, labels = images.to(device), labels.to(device)\n",
    "            loss, accuracy = get_loss_and_accuracy(images, labels, net, criterion)\n",
    "            test_loss += loss\n",
    "            test_accuracy += accuracy\n",
    "    \n",
    "    return test_loss.cpu().detach().numpy() / len(dataloader), test_accuracy * 100 / len(dataloader.dataset)"
   ]
  },
  {
   "cell_type": "code",
   "execution_count": 73,
   "metadata": {
    "colab": {
     "base_uri": "https://localhost:8080/"
    },
    "id": "BrHitI3Vxgzz",
    "outputId": "9c9fd8c5-2603-453d-f170-f766531418b4"
   },
   "outputs": [
    {
     "name": "stdout",
     "output_type": "stream",
     "text": [
      "0\n",
      "\n",
      "\n",
      "test loss: 0.16752449011269469\n",
      "test accuracy: 94.77 %\n",
      "\n",
      "\n",
      "test loss: 0.03688461864337373\n",
      "test accuracy: 98.81 %\n",
      "0.1\n",
      "\n",
      "\n",
      "test loss: 0.2016776209822097\n",
      "test accuracy: 93.8 %\n",
      "\n",
      "\n",
      "test loss: 0.04166584807082106\n",
      "test accuracy: 98.57 %\n",
      "0.2\n",
      "\n",
      "\n",
      "test loss: 0.25736278009871705\n",
      "test accuracy: 92.29 %\n",
      "\n",
      "\n",
      "test loss: 0.04099647838848468\n",
      "test accuracy: 98.68 %\n",
      "0.3\n",
      "\n",
      "\n",
      "test loss: 0.2537253626619284\n",
      "test accuracy: 92.36 %\n",
      "\n",
      "\n",
      "test loss: 0.05511922501146603\n",
      "test accuracy: 98.1 %\n",
      "0.4\n",
      "\n",
      "\n",
      "test loss: 0.3146739143152206\n",
      "test accuracy: 90.76 %\n",
      "\n",
      "\n",
      "test loss: 0.059714558025518547\n",
      "test accuracy: 98.09 %\n",
      "0.5\n",
      "\n",
      "\n",
      "test loss: 0.3998136185228634\n",
      "test accuracy: 87.67 %\n",
      "\n",
      "\n",
      "test loss: 0.06707246311175556\n",
      "test accuracy: 97.92 %\n",
      "0.6\n",
      "\n",
      "\n",
      "test loss: 0.4027418435191194\n",
      "test accuracy: 87.82 %\n",
      "\n",
      "\n",
      "test loss: 0.08070858598898013\n",
      "test accuracy: 97.6 %\n",
      "0.7\n",
      "\n",
      "\n",
      "test loss: 0.4766224139033796\n",
      "test accuracy: 85.3 %\n",
      "\n",
      "\n",
      "test loss: 0.10295426731292433\n",
      "test accuracy: 96.74 %\n",
      "0.8\n",
      "\n",
      "\n",
      "test loss: 0.6378344941063049\n",
      "test accuracy: 78.57 %\n",
      "\n",
      "\n",
      "test loss: 0.13667771458244934\n",
      "test accuracy: 95.55 %\n",
      "0.9\n",
      "\n",
      "\n",
      "test loss: 1.2541981657473042\n",
      "test accuracy: 52.8 %\n",
      "\n",
      "\n",
      "test loss: 0.44057257411578976\n",
      "test accuracy: 83.31 %\n"
     ]
    }
   ],
   "source": [
    "from tqdm import tqdm\n",
    "\n",
    "losses = []\n",
    "accuracies = []\n",
    "test_accuracies = []\n",
    "\n",
    "# train the model for X epochs\n",
    "for n in range(10):\n",
    "    prob = [0,0.1,0.2,0.3,0.4,0.5,0.6,0.7,0.8,0.9]\n",
    "    net = Net(prob[n]).to(device)\n",
    "    criterion = nn.CrossEntropyLoss()\n",
    "    optimizer = optim.SGD(net.parameters(), lr=0.001, momentum=0.9)\n",
    "    print(prob[n])\n",
    "    for epoch in (range(10)): #tqdm\n",
    "        running_loss = 0.0\n",
    "        running_accuracy = 0.0\n",
    "\n",
    "        for images, labels in trainloader:\n",
    "            images, labels = images.to(device), labels.to(device)\n",
    "\n",
    "            # zero the parameter gradients\n",
    "            optimizer.zero_grad()\n",
    "\n",
    "            # forward + backward + optimize\n",
    "            loss, accuracy = get_loss_and_accuracy(images, labels, net, criterion)\n",
    "\n",
    "            loss.backward()\n",
    "            optimizer.step()\n",
    "\n",
    "            running_loss += loss.cpu().detach().numpy()\n",
    "            running_accuracy += accuracy\n",
    "\n",
    "        losses.append(running_loss / len(trainloader))\n",
    "        accuracies.append(running_accuracy * 100 / len(trainloader.dataset))\n",
    "\n",
    "        if epoch == 0:\n",
    "\n",
    "            test_loss, test_accuracy = test(testloader, net, criterion)\n",
    "            print(f'\\n\\ntest loss: {test_loss}\\ntest accuracy: {test_accuracy} %')\n",
    "            test_accuracies.append(test_accuracy)\n",
    "\n",
    "\n",
    "\n",
    "    test_loss, test_accuracy = test(testloader, net, criterion)\n",
    "    print(f'\\n\\ntest loss: {test_loss}\\ntest accuracy: {test_accuracy} %')\n",
    "    test_accuracies.append(test_accuracy)"
   ]
  },
  {
   "cell_type": "code",
   "execution_count": 74,
   "metadata": {},
   "outputs": [
    {
     "name": "stdout",
     "output_type": "stream",
     "text": [
      "[94.77, 98.81, 93.8, 98.57, 92.29, 98.68, 92.36, 98.1, 90.76, 98.09, 87.67, 97.92, 87.82, 97.6, 85.3, 96.74, 78.57, 95.55, 52.8, 83.31]\n"
     ]
    }
   ],
   "source": [
    "print(test_accuracies)"
   ]
  }
 ],
 "metadata": {
  "accelerator": "GPU",
  "colab": {
   "provenance": []
  },
  "gpuClass": "standard",
  "kernelspec": {
   "display_name": "Python 3 (ipykernel)",
   "language": "python",
   "name": "python3"
  },
  "language_info": {
   "codemirror_mode": {
    "name": "ipython",
    "version": 3
   },
   "file_extension": ".py",
   "mimetype": "text/x-python",
   "name": "python",
   "nbconvert_exporter": "python",
   "pygments_lexer": "ipython3",
   "version": "3.9.5"
  }
 },
 "nbformat": 4,
 "nbformat_minor": 1
}
